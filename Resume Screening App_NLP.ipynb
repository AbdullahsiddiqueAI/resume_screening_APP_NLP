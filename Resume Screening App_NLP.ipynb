{
 "cells": [
  {
   "cell_type": "code",
   "execution_count": null,
   "id": "6d783e1c",
   "metadata": {},
   "outputs": [],
   "source": [
    "import numpy as np \n",
    "import pandas as pd \n",
    "import matplotlib.pyplot as plt \n",
    "import seaborn as sns"
   ]
  },
  {
   "cell_type": "code",
   "execution_count": null,
   "id": "0d2ad860",
   "metadata": {},
   "outputs": [],
   "source": [
    "df = pd.read_csv('UpdatedResumeDataSet.csv')\n",
    "df.head()"
   ]
  },
  {
   "cell_type": "code",
   "execution_count": null,
   "id": "62e03ad9",
   "metadata": {},
   "outputs": [],
   "source": [
    "df.shape"
   ]
  },
  {
   "cell_type": "markdown",
   "id": "6b9c0e48",
   "metadata": {},
   "source": [
    "# Exploring Categories"
   ]
  },
  {
   "cell_type": "code",
   "execution_count": null,
   "id": "3384b653",
   "metadata": {},
   "outputs": [],
   "source": [
    "df['Category'].value_counts()"
   ]
  },
  {
   "cell_type": "code",
   "execution_count": null,
   "id": "6f955c61",
   "metadata": {},
   "outputs": [],
   "source": [
    "print(df['Category'].dtype)"
   ]
  },
  {
   "cell_type": "code",
   "execution_count": null,
   "id": "a271f7c8",
   "metadata": {},
   "outputs": [],
   "source": [
    "import matplotlib.pyplot as plt\n",
    "import seaborn as sns\n",
    "\n",
    "plt.figure(figsize=(15, 5))\n",
    "\n",
    "# Visualizing counts of categories\n",
    "sns.countplot(data=df, x='Category')  # Assuming 'Category' is the column name\n",
    "plt.xticks(rotation=45)  # Rotating x-axis labels for better readability\n",
    "plt.show()"
   ]
  },
  {
   "cell_type": "code",
   "execution_count": null,
   "id": "74121e4a",
   "metadata": {},
   "outputs": [],
   "source": [
    "# making pie plot .\n",
    "plt.figure(figsize=(15, 7))\n",
    "counts = df['Category'].value_counts()\n",
    "labels = df['Category'].unique()\n",
    "plt.pie(counts,labels=labels,autopct='%1.1f%%',shadow=True,\n",
    "        colors=plt.cm.coolwarm(np.linspace(0,1,3)))\n",
    "plt.show()"
   ]
  },
  {
   "cell_type": "markdown",
   "id": "077cf31a",
   "metadata": {},
   "source": [
    "# Exploring Resume"
   ]
  },
  {
   "cell_type": "code",
   "execution_count": null,
   "id": "930f0673",
   "metadata": {},
   "outputs": [],
   "source": [
    "df['Category'][0]"
   ]
  },
  {
   "cell_type": "code",
   "execution_count": null,
   "id": "36b085ed",
   "metadata": {},
   "outputs": [],
   "source": [
    "df['Resume'][0]"
   ]
  },
  {
   "cell_type": "markdown",
   "id": "47a747d9",
   "metadata": {},
   "source": [
    "# Cleaning Data\n",
    "1 : URLs,\n",
    "\n",
    "2 : Hashtags,\n",
    "\n",
    "3 : mentions,\n",
    "\n",
    "4 : special letters,\n",
    "\n",
    "5 : punctuatuions"
   ]
  },
  {
   "cell_type": "code",
   "execution_count": null,
   "id": "39aa11d3",
   "metadata": {},
   "outputs": [],
   "source": [
    "import re \n",
    "def cleanResume(txt):\n",
    "#     .)The blw remove the http and |s+ means all char combine with it.\n",
    "    cleanTxt = re.sub('http\\S+',' ',txt)\n",
    "    cleanTxt = re.sub('@\\S+',' ',cleanTxt)\n",
    "    cleanTxt = re.sub('#\\S+',' ',cleanTxt)\n",
    "    \n",
    "#     .)The blw is trick of removing all special symbols.\n",
    "    cleanTxt = re.sub('[%s]' % re.escape(\"\"\"!\"#$%&'()*+,-./:;<=>?@[\\]^_{|}~  \"\"\"),' ',cleanTxt)\n",
    "    \n",
    "#     .)The blw is speical text fing in it which is observed by checking the ext.\n",
    "    cleanTxt = re.sub(r'[^\\x00-\\x7f]',' ',cleanTxt)\n",
    "# The line re.sub('\\s+', ' ', cleanTxt) essentially replaces sequences of \n",
    "# one or more whitespace characters in the string variable cleanTxt with\n",
    "# a single whitespace.\n",
    "    cleanTxt = re.sub('\\s+',' ',cleanTxt)\n",
    "    return cleanTxt"
   ]
  },
  {
   "cell_type": "code",
   "execution_count": null,
   "id": "1414f446",
   "metadata": {},
   "outputs": [],
   "source": [
    "cleanResume('My website subhan@gmail #name is ###  http://subhan.com and its name')"
   ]
  },
  {
   "cell_type": "code",
   "execution_count": null,
   "id": "8c465d80",
   "metadata": {},
   "outputs": [],
   "source": [
    "df['Resume'] = df['Resume'].apply(lambda x :cleanResume(x) )"
   ]
  },
  {
   "cell_type": "code",
   "execution_count": null,
   "id": "ad6f638e",
   "metadata": {},
   "outputs": [],
   "source": [
    "df['Resume'][0]"
   ]
  },
  {
   "cell_type": "markdown",
   "id": "c3f836c6",
   "metadata": {},
   "source": [
    "# categorical values into numerical form."
   ]
  },
  {
   "cell_type": "code",
   "execution_count": null,
   "id": "79f78d7c",
   "metadata": {},
   "outputs": [],
   "source": [
    "from sklearn.preprocessing import LabelEncoder\n",
    "le = LabelEncoder()"
   ]
  },
  {
   "cell_type": "code",
   "execution_count": null,
   "id": "87596707",
   "metadata": {},
   "outputs": [],
   "source": [
    "le.fit(df['Category'])\n",
    "df['Category'] = le.transform(df['Category'])"
   ]
  },
  {
   "cell_type": "code",
   "execution_count": null,
   "id": "64aa04ed",
   "metadata": {},
   "outputs": [],
   "source": [
    "df.head()"
   ]
  },
  {
   "cell_type": "markdown",
   "id": "9c5950e6",
   "metadata": {},
   "source": [
    "# TFIDF vectorization"
   ]
  },
  {
   "cell_type": "code",
   "execution_count": null,
   "id": "1cb743b8",
   "metadata": {},
   "outputs": [],
   "source": [
    "from sklearn.feature_extraction.text import TfidfVectorizer \n",
    "tfidf = TfidfVectorizer(stop_words='english')\n",
    "tfidf.fit(df['Resume'])\n",
    "requiredTaxt = tfidf.transform(df['Resume'])"
   ]
  },
  {
   "cell_type": "markdown",
   "id": "e0d2e2d1",
   "metadata": {},
   "source": [
    "# splitting"
   ]
  },
  {
   "cell_type": "code",
   "execution_count": null,
   "id": "aa734350",
   "metadata": {},
   "outputs": [],
   "source": [
    "from sklearn.model_selection import train_test_split "
   ]
  },
  {
   "cell_type": "code",
   "execution_count": null,
   "id": "16d770f9",
   "metadata": {},
   "outputs": [],
   "source": [
    "X_train,X_test,y_train,y_test = train_test_split(requiredTaxt,df['Category'],test_size=0.2,\n",
    "                                                 random_state=42)"
   ]
  },
  {
   "cell_type": "code",
   "execution_count": null,
   "id": "e37c83a7",
   "metadata": {},
   "outputs": [],
   "source": [
    "X_train.shape"
   ]
  },
  {
   "cell_type": "code",
   "execution_count": null,
   "id": "7f5ba7f4",
   "metadata": {},
   "outputs": [],
   "source": [
    "X_test.shape"
   ]
  },
  {
   "cell_type": "markdown",
   "id": "a4e526cc",
   "metadata": {},
   "source": [
    "# Applying K nearest alogorith for classification"
   ]
  },
  {
   "cell_type": "code",
   "execution_count": null,
   "id": "a483e4c0",
   "metadata": {},
   "outputs": [],
   "source": [
    "from sklearn.neighbors import KNeighborsClassifier \n",
    "from sklearn.multiclass import OneVsRestClassifier \n",
    "from sklearn.metrics import accuracy_score\n",
    "# .)The blw OneVsRestClassifier is used it is used when ther eare multiclass labels in \n",
    "# y so to improve accuracy we use OneVsRestClassifier it.\n",
    "clf = OneVsRestClassifier(KNeighborsClassifier())\n",
    "clf.fit(X_train,y_train)\n",
    "y_pred = clf.predict(X_test)\n",
    "print(accuracy_score(y_test,y_pred))"
   ]
  },
  {
   "cell_type": "markdown",
   "id": "ef0b0bef",
   "metadata": {},
   "source": [
    "# predictive system"
   ]
  },
  {
   "cell_type": "code",
   "execution_count": null,
   "id": "f559dc67",
   "metadata": {},
   "outputs": [],
   "source": [
    "myresume= \"\"\"\n",
    "John Doe\n",
    "johndoe@email.com\n",
    "123-456-7890\n",
    "123 Main Street, City, Country\n",
    "\n",
    "Summary:\n",
    "A highly motivated individual with experience in software development and data analysis. Strong problem-solving skills and ability to work in a team environment.\n",
    "\n",
    "Education:\n",
    "- Bachelor of Science in Computer Science\n",
    "  University of Example, 2022\n",
    "\n",
    "- High School Diploma\n",
    "  Example High School, 2018\n",
    "\n",
    "Experience:\n",
    "- Software Engineer Intern\n",
    "  Tech Company X, 2021 - 2022\n",
    "  - Developed and maintained software applications.\n",
    "  - Collaborated with the team to improve project efficiency.\n",
    "\n",
    "- Customer Service Representative\n",
    "  Service Provider Inc., 2019 - 2021\n",
    "  - Assisted customers with inquiries and complaints.\n",
    "  - Handled customer service issues effectively.\n",
    "\n",
    "Skills:\n",
    "- Python\n",
    "- Java\n",
    "- Data Analysis\n",
    "- Communication\"\"\""
   ]
  },
  {
   "cell_type": "code",
   "execution_count": null,
   "id": "eb16c95c",
   "metadata": {},
   "outputs": [],
   "source": [
    "# using pickle to save model and vectorizer.\n",
    "import pickle \n",
    "pickle.dump(tfidf,open('tfidf.pkl','wb'))\n",
    "pickle.dump(clf,open('clf.pkl','wb'))"
   ]
  },
  {
   "cell_type": "code",
   "execution_count": null,
   "id": "4e37e038",
   "metadata": {},
   "outputs": [],
   "source": [
    "# .)Now using the save model and vectorizer by loading it .\n",
    "import pickle\n",
    "\n",
    "#loading the trained model classifier\n",
    "clf = pickle.load(open('clf.pkl','rb'))\n",
    "\n",
    "#clean the input resume.\n",
    "cleaned_resume = cleanResume(myresume)\n",
    "\n",
    "# Transform the cleaned resume using the tfidf vector.\n",
    "input_features = tfidf.transform([cleaned_resume])\n",
    "\n",
    "# making the prediction using the loaded model.\n",
    "predictions_id = clf.predict(input_features)[0]\n",
    "# predictions_id\n",
    "# map category id to category name.\n",
    "p = le.inverse_transform([predictions_id])[0]\n",
    "print(\"Your resume is showing that your field is :\",p)"
   ]
  },
  {
   "cell_type": "code",
   "execution_count": null,
   "id": "b852caff",
   "metadata": {
    "collapsed": true
   },
   "outputs": [],
   "source": []
  },
  {
   "cell_type": "code",
   "execution_count": null,
   "id": "37c719bf",
   "metadata": {},
   "outputs": [],
   "source": []
  },
  {
   "cell_type": "code",
   "execution_count": null,
   "id": "1d8e0867",
   "metadata": {},
   "outputs": [],
   "source": []
  },
  {
   "cell_type": "code",
   "execution_count": null,
   "id": "60891b54",
   "metadata": {},
   "outputs": [],
   "source": []
  },
  {
   "cell_type": "code",
   "execution_count": null,
   "id": "7925d143",
   "metadata": {},
   "outputs": [],
   "source": []
  },
  {
   "cell_type": "code",
   "execution_count": null,
   "id": "626f53da",
   "metadata": {},
   "outputs": [],
   "source": []
  },
  {
   "cell_type": "code",
   "execution_count": null,
   "id": "81631c87",
   "metadata": {},
   "outputs": [],
   "source": []
  },
  {
   "cell_type": "code",
   "execution_count": null,
   "id": "82f9b68e",
   "metadata": {},
   "outputs": [],
   "source": []
  },
  {
   "cell_type": "code",
   "execution_count": null,
   "id": "3b203324",
   "metadata": {},
   "outputs": [],
   "source": []
  },
  {
   "cell_type": "code",
   "execution_count": null,
   "id": "66edf80b",
   "metadata": {},
   "outputs": [],
   "source": []
  }
 ],
 "metadata": {
  "kernelspec": {
   "display_name": "Python 3 (ipykernel)",
   "language": "python",
   "name": "python3"
  },
  "language_info": {
   "codemirror_mode": {
    "name": "ipython",
    "version": 3
   },
   "file_extension": ".py",
   "mimetype": "text/x-python",
   "name": "python",
   "nbconvert_exporter": "python",
   "pygments_lexer": "ipython3",
   "version": "3.11.5"
  }
 },
 "nbformat": 4,
 "nbformat_minor": 5
}
